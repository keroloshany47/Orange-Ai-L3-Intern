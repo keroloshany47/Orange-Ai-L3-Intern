{
 "cells": [
  {
   "cell_type": "code",
   "execution_count": 2,
   "metadata": {
    "_cell_guid": "b1076dfc-b9ad-4769-8c92-a6c4dae69d19",
    "_uuid": "8f2839f25d086af736a60e9eeb907d3b93b6e0e5",
    "execution": {
     "iopub.execute_input": "2025-02-16T20:19:01.387319Z",
     "iopub.status.busy": "2025-02-16T20:19:01.387084Z",
     "iopub.status.idle": "2025-02-16T20:19:01.392877Z",
     "shell.execute_reply": "2025-02-16T20:19:01.391900Z",
     "shell.execute_reply.started": "2025-02-16T20:19:01.387300Z"
    }
   },
   "outputs": [
    {
     "name": "stdout",
     "output_type": "stream",
     "text": [
      "/kaggle/input/330k-arabic-sentiment-reviews/arabic_sentiment_reviews.csv\n"
     ]
    }
   ],
   "source": [
    "# This Python 3 environment comes with many helpful analytics libraries installed\n",
    "# It is defined by the kaggle/python Docker image: https://github.com/kaggle/docker-python\n",
    "# For example, here's several helpful packages to load\n",
    "\n",
    "import numpy as np # linear algebra\n",
    "import pandas as pd # data processing, CSV file I/O (e.g. pd.read_csv)\n",
    "\n",
    "# Input data files are available in the read-only \"../input/\" directory\n",
    "# For example, running this (by clicking run or pressing Shift+Enter) will list all files under the input directory\n",
    "\n",
    "import os\n",
    "for dirname, _, filenames in os.walk('/kaggle/input'):\n",
    "    for filename in filenames:\n",
    "        print(os.path.join(dirname, filename))\n",
    "\n",
    "# You can write up to 20GB to the current directory (/kaggle/working/) that gets preserved as output when you create a version using \"Save & Run All\" \n",
    "# You can also write temporary files to /kaggle/temp/, but they won't be saved outside of the current session"
   ]
  },
  {
   "cell_type": "markdown",
   "metadata": {},
   "source": [
    "# Load data "
   ]
  },
  {
   "cell_type": "code",
   "execution_count": 3,
   "metadata": {
    "execution": {
     "iopub.execute_input": "2025-02-16T20:19:06.033035Z",
     "iopub.status.busy": "2025-02-16T20:19:06.032758Z",
     "iopub.status.idle": "2025-02-16T20:19:25.497529Z",
     "shell.execute_reply": "2025-02-16T20:19:25.496908Z",
     "shell.execute_reply.started": "2025-02-16T20:19:06.033015Z"
    }
   },
   "outputs": [],
   "source": [
    "import pandas \n",
    "import matplotlib.pyplot as plt\n",
    "import seaborn as sns\n",
    "import numpy as np\n",
    "from transformers import BertTokenizer, BertModel\n",
    "import torch"
   ]
  },
  {
   "cell_type": "code",
   "execution_count": 4,
   "metadata": {
    "execution": {
     "iopub.execute_input": "2025-02-16T20:19:28.033690Z",
     "iopub.status.busy": "2025-02-16T20:19:28.033099Z",
     "iopub.status.idle": "2025-02-16T20:19:34.222379Z",
     "shell.execute_reply": "2025-02-16T20:19:34.221617Z",
     "shell.execute_reply.started": "2025-02-16T20:19:28.033631Z"
    }
   },
   "outputs": [],
   "source": [
    "data=\"/kaggle/input/330k-arabic-sentiment-reviews/arabic_sentiment_reviews.csv\"\n",
    "df=pd.read_csv(data)"
   ]
  },
  {
   "cell_type": "code",
   "execution_count": 5,
   "metadata": {
    "execution": {
     "iopub.execute_input": "2025-02-16T20:19:35.517031Z",
     "iopub.status.busy": "2025-02-16T20:19:35.516725Z",
     "iopub.status.idle": "2025-02-16T20:19:35.570044Z",
     "shell.execute_reply": "2025-02-16T20:19:35.569144Z",
     "shell.execute_reply.started": "2025-02-16T20:19:35.517008Z"
    }
   },
   "outputs": [
    {
     "data": {
      "text/plain": [
       "label      0\n",
       "content    0\n",
       "dtype: int64"
      ]
     },
     "execution_count": 5,
     "metadata": {},
     "output_type": "execute_result"
    }
   ],
   "source": [
    "df.isnull().sum()"
   ]
  },
  {
   "cell_type": "code",
   "execution_count": 6,
   "metadata": {
    "execution": {
     "iopub.execute_input": "2025-02-16T20:19:38.348380Z",
     "iopub.status.busy": "2025-02-16T20:19:38.348077Z",
     "iopub.status.idle": "2025-02-16T20:19:39.513950Z",
     "shell.execute_reply": "2025-02-16T20:19:39.513185Z",
     "shell.execute_reply.started": "2025-02-16T20:19:38.348358Z"
    }
   },
   "outputs": [
    {
     "data": {
      "text/plain": [
       "32"
      ]
     },
     "execution_count": 6,
     "metadata": {},
     "output_type": "execute_result"
    }
   ],
   "source": [
    "df.duplicated().sum()"
   ]
  },
  {
   "cell_type": "code",
   "execution_count": 7,
   "metadata": {
    "execution": {
     "iopub.execute_input": "2025-02-16T20:19:41.274065Z",
     "iopub.status.busy": "2025-02-16T20:19:41.273770Z",
     "iopub.status.idle": "2025-02-16T20:19:41.840036Z",
     "shell.execute_reply": "2025-02-16T20:19:41.839290Z",
     "shell.execute_reply.started": "2025-02-16T20:19:41.274043Z"
    }
   },
   "outputs": [],
   "source": [
    "df = df.drop_duplicates()"
   ]
  },
  {
   "cell_type": "code",
   "execution_count": 8,
   "metadata": {
    "execution": {
     "iopub.execute_input": "2025-02-16T20:19:43.602955Z",
     "iopub.status.busy": "2025-02-16T20:19:43.602672Z",
     "iopub.status.idle": "2025-02-16T20:19:44.145666Z",
     "shell.execute_reply": "2025-02-16T20:19:44.144832Z",
     "shell.execute_reply.started": "2025-02-16T20:19:43.602933Z"
    }
   },
   "outputs": [
    {
     "data": {
      "text/plain": [
       "0"
      ]
     },
     "execution_count": 8,
     "metadata": {},
     "output_type": "execute_result"
    }
   ],
   "source": [
    "df.duplicated().sum()"
   ]
  },
  {
   "cell_type": "code",
   "execution_count": 9,
   "metadata": {
    "execution": {
     "iopub.execute_input": "2025-02-16T20:19:45.853818Z",
     "iopub.status.busy": "2025-02-16T20:19:45.853367Z",
     "iopub.status.idle": "2025-02-16T20:19:45.862883Z",
     "shell.execute_reply": "2025-02-16T20:19:45.861918Z",
     "shell.execute_reply.started": "2025-02-16T20:19:45.853777Z"
    }
   },
   "outputs": [
    {
     "data": {
      "text/plain": [
       "Index(['label', 'content'], dtype='object')"
      ]
     },
     "execution_count": 9,
     "metadata": {},
     "output_type": "execute_result"
    }
   ],
   "source": [
    "df.columns"
   ]
  },
  {
   "cell_type": "code",
   "execution_count": 10,
   "metadata": {
    "execution": {
     "iopub.execute_input": "2025-02-16T20:19:47.947004Z",
     "iopub.status.busy": "2025-02-16T20:19:47.946716Z",
     "iopub.status.idle": "2025-02-16T20:19:48.173009Z",
     "shell.execute_reply": "2025-02-16T20:19:48.172202Z",
     "shell.execute_reply.started": "2025-02-16T20:19:47.946984Z"
    }
   },
   "outputs": [
    {
     "data": {
      "image/png": "[encoded data removed]",
      "text/plain": [
       "<Figure size 600x400 with 1 Axes>"
      ]
     },
     "metadata": {},
     "output_type": "display_data"
    }
   ],
   "source": [
    "plt.figure(figsize=(6, 4))\n",
    "sns.countplot(x=df[\"label\"], palette=\"viridis\")\n",
    "plt.title(\"Label Distribution\")\n",
    "plt.xlabel(\"Classes\")\n",
    "plt.ylabel(\"Count\")\n",
    "plt.show()"
   ]
  },
  {
   "cell_type": "code",
   "execution_count": 11,
   "metadata": {
    "execution": {
     "iopub.execute_input": "2025-02-16T20:19:50.724513Z",
     "iopub.status.busy": "2025-02-16T20:19:50.724178Z",
     "iopub.status.idle": "2025-02-16T20:19:50.729454Z",
     "shell.execute_reply": "2025-02-16T20:19:50.728551Z",
     "shell.execute_reply.started": "2025-02-16T20:19:50.724484Z"
    }
   },
   "outputs": [
    {
     "data": {
      "text/plain": [
       "(329968, 2)"
      ]
     },
     "execution_count": 11,
     "metadata": {},
     "output_type": "execute_result"
    }
   ],
   "source": [
    "df.shape"
   ]
  },
  {
   "cell_type": "markdown",
   "metadata": {},
   "source": [
    "# Split data"
   ]
  },
  {
   "cell_type": "code",
   "execution_count": 12,
   "metadata": {
    "execution": {
     "iopub.execute_input": "2025-02-16T20:19:53.587375Z",
     "iopub.status.busy": "2025-02-16T20:19:53.586912Z",
     "iopub.status.idle": "2025-02-16T20:19:53.663102Z",
     "shell.execute_reply": "2025-02-16T20:19:53.662226Z",
     "shell.execute_reply.started": "2025-02-16T20:19:53.587334Z"
    }
   },
   "outputs": [],
   "source": [
    "from sklearn.model_selection import train_test_split\n",
    "X_train,X_test,y_train,y_test= (train_test_split(\n",
    "    df[\"content\"],df[\"label\"],test_size=0.3,random_state=42)\n",
    ")"
   ]
  },
  {
   "cell_type": "code",
   "execution_count": 13,
   "metadata": {
    "execution": {
     "iopub.execute_input": "2025-02-16T20:19:57.490504Z",
     "iopub.status.busy": "2025-02-16T20:19:57.490161Z",
     "iopub.status.idle": "2025-02-16T20:19:57.495502Z",
     "shell.execute_reply": "2025-02-16T20:19:57.494696Z",
     "shell.execute_reply.started": "2025-02-16T20:19:57.490482Z"
    }
   },
   "outputs": [
    {
     "name": "stdout",
     "output_type": "stream",
     "text": [
      "Number of train text: 230977\n",
      "Number of test text: 98991\n"
     ]
    }
   ],
   "source": [
    "print(f\"Number of train text: {len(X_train)}\")\n",
    "print(f\"Number of test text: {len(X_test)}\")"
   ]
  },
  {
   "cell_type": "markdown",
   "metadata": {},
   "source": [
    "# BERT"
   ]
  },
  {
   "cell_type": "markdown",
   "metadata": {},
   "source": [
    "Use a BERT Model to Embed the Data"
   ]
  },
  {
   "cell_type": "code",
   "execution_count": 14,
   "metadata": {
    "execution": {
     "iopub.execute_input": "2025-02-16T20:20:02.811113Z",
     "iopub.status.busy": "2025-02-16T20:20:02.810802Z",
     "iopub.status.idle": "2025-02-16T20:20:02.843435Z",
     "shell.execute_reply": "2025-02-16T20:20:02.842419Z",
     "shell.execute_reply.started": "2025-02-16T20:20:02.811087Z"
    }
   },
   "outputs": [],
   "source": [
    "X_train = X_train.tolist()  \n",
    "X_test = X_test.tolist()"
   ]
  },
  {
   "cell_type": "code",
   "execution_count": 15,
   "metadata": {
    "execution": {
     "iopub.execute_input": "2025-02-16T20:20:06.033702Z",
     "iopub.status.busy": "2025-02-16T20:20:06.033389Z",
     "iopub.status.idle": "2025-02-16T20:55:35.643788Z",
     "shell.execute_reply": "2025-02-16T20:55:35.642928Z",
     "shell.execute_reply.started": "2025-02-16T20:20:06.033678Z"
    }
   },
   "outputs": [
    {
     "name": "stdout",
     "output_type": "stream",
     "text": [
      "Using device: cuda\n"
     ]
    },
    {
     "data": {
      "application/vnd.jupyter.widget-view+json": {
       "model_id": "5a39991fd7e14f7499847f3d7ed6a71d",
       "version_major": 2,
       "version_minor": 0
      },
      "text/plain": [
       "tokenizer_config.json:   0%|          | 0.00/381 [00:00<?, ?B/s]"
      ]
     },
     "metadata": {},
     "output_type": "display_data"
    },
    {
     "data": {
      "application/vnd.jupyter.widget-view+json": {
       "model_id": "7446957fa26b4dbdb0aacf6ef4ba6099",
       "version_major": 2,
       "version_minor": 0
      },
      "text/plain": [
       "vocab.txt:   0%|          | 0.00/825k [00:00<?, ?B/s]"
      ]
     },
     "metadata": {},
     "output_type": "display_data"
    },
    {
     "data": {
      "application/vnd.jupyter.widget-view+json": {
       "model_id": "9b57898aeb2e41ddba2b7efc30a63941",
       "version_major": 2,
       "version_minor": 0
      },
      "text/plain": [
       "special_tokens_map.json:   0%|          | 0.00/112 [00:00<?, ?B/s]"
      ]
     },
     "metadata": {},
     "output_type": "display_data"
    },
    {
     "data": {
      "application/vnd.jupyter.widget-view+json": {
       "model_id": "541787333afb45b9b16b1f293912157c",
       "version_major": 2,
       "version_minor": 0
      },
      "text/plain": [
       "tokenizer.json:   0%|          | 0.00/2.64M [00:00<?, ?B/s]"
      ]
     },
     "metadata": {},
     "output_type": "display_data"
    },
    {
     "data": {
      "application/vnd.jupyter.widget-view+json": {
       "model_id": "33524aaf343d4d549d1ba6d4d7de5e80",
       "version_major": 2,
       "version_minor": 0
      },
      "text/plain": [
       "config.json:   0%|          | 0.00/384 [00:00<?, ?B/s]"
      ]
     },
     "metadata": {},
     "output_type": "display_data"
    },
    {
     "data": {
      "application/vnd.jupyter.widget-view+json": {
       "model_id": "8a82644d30e1443283ac557c71b0b744",
       "version_major": 2,
       "version_minor": 0
      },
      "text/plain": [
       "model.safetensors:   0%|          | 0.00/543M [00:00<?, ?B/s]"
      ]
     },
     "metadata": {},
     "output_type": "display_data"
    },
    {
     "name": "stdout",
     "output_type": "stream",
     "text": [
      "Train Embeddings Shape: (230977, 768)\n",
      "Test Embeddings Shape: (98991, 768)\n",
      "y_train shape: torch.Size([230977, 1])\n",
      "y_test shape: torch.Size([98991, 1])\n",
      "Reshaped Train Embeddings Shape: (230977, 1, 768)\n",
      "Reshaped Test Embeddings Shape: (98991, 1, 768)\n"
     ]
    }
   ],
   "source": [
    "import numpy as np\n",
    "import torch\n",
    "from transformers import BertTokenizer, BertModel\n",
    "\n",
    "\n",
    "device = torch.device(\"cuda\" if torch.cuda.is_available() else \"cpu\")\n",
    "print(f\"Using device: {device}\")\n",
    "\n",
    "\n",
    "model_name = \"aubmindlab/bert-base-arabertv02\"\n",
    "tokenizer = BertTokenizer.from_pretrained(model_name)\n",
    "model = BertModel.from_pretrained(model_name).to(device)\n",
    "\n",
    "\n",
    "def get_bert_embeddings(texts, max_length=100, batch_size=16):\n",
    "    all_embeddings = []\n",
    "    for i in range(0, len(texts), batch_size):\n",
    "        batch_texts = texts[i:i + batch_size]\n",
    "        \n",
    "       \n",
    "        inputs = tokenizer(batch_texts, return_tensors=\"pt\", padding=True, truncation=True, max_length=max_length)\n",
    "        inputs = {k: v.to(device) for k, v in inputs.items()}  \n",
    "\n",
    "       \n",
    "        with torch.no_grad():\n",
    "            outputs = model(**inputs)\n",
    "\n",
    "       \n",
    "        embeddings = outputs.last_hidden_state[:, 0, :].cpu().numpy()\n",
    "        all_embeddings.append(embeddings)\n",
    "    \n",
    "    return np.vstack(all_embeddings)\n",
    "\n",
    "\n",
    "train_embeddings = get_bert_embeddings(X_train)\n",
    "test_embeddings = get_bert_embeddings(X_test)\n",
    "\n",
    "\n",
    "y_train = torch.tensor(np.array(y_train, dtype=np.float32), device=device).unsqueeze(1)\n",
    "y_test = torch.tensor(np.array(y_test, dtype=np.float32), device=device).unsqueeze(1)\n",
    "\n",
    "\n",
    "print(f\"Train Embeddings Shape: {train_embeddings.shape}\")  \n",
    "print(f\"Test Embeddings Shape: {test_embeddings.shape}\")  \n",
    "print(f\"y_train shape: {y_train.shape}\")  \n",
    "print(f\"y_test shape: {y_test.shape}\")  \n",
    "\n",
    "\n",
    "if len(train_embeddings.shape) == 2:\n",
    "    train_embeddings = train_embeddings.reshape(train_embeddings.shape[0], 1, train_embeddings.shape[1])\n",
    "    test_embeddings = test_embeddings.reshape(test_embeddings.shape[0], 1, test_embeddings.shape[1])\n",
    "\n",
    "print(f\"Reshaped Train Embeddings Shape: {train_embeddings.shape}\")  \n",
    "print(f\"Reshaped Test Embeddings Shape: {test_embeddings.shape}\")  \n"
   ]
  },
  {
   "cell_type": "code",
   "execution_count": 16,
   "metadata": {
    "execution": {
     "iopub.execute_input": "2025-02-16T21:21:18.181115Z",
     "iopub.status.busy": "2025-02-16T21:21:18.180768Z",
     "iopub.status.idle": "2025-02-16T21:21:18.907680Z",
     "shell.execute_reply": "2025-02-16T21:21:18.906991Z",
     "shell.execute_reply.started": "2025-02-16T21:21:18.181092Z"
    }
   },
   "outputs": [],
   "source": [
    "from torch.utils.data import DataLoader, TensorDataset\n",
    "\n",
    "\n",
    "X_train_tensor = torch.tensor(train_embeddings, dtype=torch.float32).to(device)\n",
    "y_train_tensor = y_train.to(device)\n",
    "X_test_tensor = torch.tensor(test_embeddings, dtype=torch.float32).to(device)\n",
    "y_test_tensor = y_test.to(device)\n",
    "\n",
    "\n",
    "batch_size = 32\n",
    "train_dataset = TensorDataset(X_train_tensor, y_train_tensor)\n",
    "test_dataset = TensorDataset(X_test_tensor, y_test_tensor)\n",
    "train_loader = DataLoader(train_dataset, batch_size=batch_size, shuffle=True)\n",
    "test_loader = DataLoader(test_dataset, batch_size=batch_size, shuffle=False)"
   ]
  },
  {
   "cell_type": "markdown",
   "metadata": {},
   "source": [
    "# RNN , LSTM ,BI directions LSTM ,BI directions RNN\n"
   ]
  },
  {
   "cell_type": "markdown",
   "metadata": {},
   "source": [
    "# RNN model\n"
   ]
  },
  {
   "cell_type": "code",
   "execution_count": 18,
   "metadata": {
    "execution": {
     "iopub.execute_input": "2025-02-16T21:21:30.708699Z",
     "iopub.status.busy": "2025-02-16T21:21:30.708395Z",
     "iopub.status.idle": "2025-02-16T21:21:30.714250Z",
     "shell.execute_reply": "2025-02-16T21:21:30.713318Z",
     "shell.execute_reply.started": "2025-02-16T21:21:30.708673Z"
    }
   },
   "outputs": [],
   "source": [
    "import torch\n",
    "import torch.nn as nn\n",
    "import torch.optim as optim\n",
    "import numpy as np\n",
    "import matplotlib.pyplot as plt\n",
    "import seaborn as sns\n",
    "from sklearn.metrics import classification_report, confusion_matrix\n",
    "\n",
    "\n",
    "class RNNModel(nn.Module):\n",
    "    def __init__(self, input_size, hidden_size, output_size):\n",
    "        super(RNNModel, self).__init__()\n",
    "        self.rnn = nn.RNN(input_size, hidden_size, batch_first=True)\n",
    "        self.dropout = nn.Dropout(0.5)\n",
    "        self.fc = nn.Linear(hidden_size, output_size)\n",
    "\n",
    "    def forward(self, x):\n",
    "        out, _ = self.rnn(x)\n",
    "        out = self.dropout(out[:, -1, :])\n",
    "        out = self.fc(out)\n",
    "        return torch.sigmoid(out)"
   ]
  },
  {
   "cell_type": "markdown",
   "metadata": {},
   "source": [
    "# LSTM model"
   ]
  },
  {
   "cell_type": "code",
   "execution_count": 19,
   "metadata": {
    "execution": {
     "iopub.execute_input": "2025-02-16T21:21:33.613741Z",
     "iopub.status.busy": "2025-02-16T21:21:33.613433Z",
     "iopub.status.idle": "2025-02-16T21:21:33.618688Z",
     "shell.execute_reply": "2025-02-16T21:21:33.617737Z",
     "shell.execute_reply.started": "2025-02-16T21:21:33.613717Z"
    }
   },
   "outputs": [],
   "source": [
    "class LSTMModel(nn.Module):\n",
    "    def __init__(self, input_size, hidden_size, output_size):\n",
    "        super(LSTMModel, self).__init__()\n",
    "        self.lstm = nn.LSTM(input_size, hidden_size, batch_first=True)\n",
    "        self.dropout = nn.Dropout(0.5)\n",
    "        self.fc = nn.Linear(hidden_size, output_size)\n",
    "\n",
    "    def forward(self, x):\n",
    "        out, _ = self.lstm(x)\n",
    "        out = self.dropout(out[:, -1, :])\n",
    "        out = self.fc(out)\n",
    "        return torch.sigmoid(out)"
   ]
  },
  {
   "cell_type": "markdown",
   "metadata": {},
   "source": [
    "# Bi-Directional RNN model"
   ]
  },
  {
   "cell_type": "code",
   "execution_count": 20,
   "metadata": {
    "execution": {
     "iopub.execute_input": "2025-02-16T21:21:37.478306Z",
     "iopub.status.busy": "2025-02-16T21:21:37.477924Z",
     "iopub.status.idle": "2025-02-16T21:21:37.485413Z",
     "shell.execute_reply": "2025-02-16T21:21:37.484358Z",
     "shell.execute_reply.started": "2025-02-16T21:21:37.478271Z"
    }
   },
   "outputs": [],
   "source": [
    "class BiRNNModel(nn.Module):\n",
    "    def __init__(self, input_size, hidden_size, output_size):\n",
    "        super(BiRNNModel, self).__init__()\n",
    "        self.rnn = nn.RNN(input_size, hidden_size, batch_first=True, bidirectional=True)\n",
    "        self.dropout = nn.Dropout(0.5)\n",
    "        self.fc = nn.Linear(hidden_size * 2, output_size)\n",
    "\n",
    "    def forward(self, x):\n",
    "        out, _ = self.rnn(x)\n",
    "        out = self.dropout(out[:, -1, :])\n",
    "        out = self.fc(out)\n",
    "        return torch.sigmoid(out)\n"
   ]
  },
  {
   "cell_type": "markdown",
   "metadata": {},
   "source": [
    "# Bi-Directional LSTM model"
   ]
  },
  {
   "cell_type": "code",
   "execution_count": 21,
   "metadata": {
    "execution": {
     "iopub.execute_input": "2025-02-16T21:21:40.420115Z",
     "iopub.status.busy": "2025-02-16T21:21:40.419814Z",
     "iopub.status.idle": "2025-02-16T21:21:40.425190Z",
     "shell.execute_reply": "2025-02-16T21:21:40.424199Z",
     "shell.execute_reply.started": "2025-02-16T21:21:40.420088Z"
    }
   },
   "outputs": [],
   "source": [
    "class BiLSTMModel(nn.Module):\n",
    "    def __init__(self, input_size, hidden_size, output_size):\n",
    "        super(BiLSTMModel, self).__init__()\n",
    "        self.lstm = nn.LSTM(input_size, hidden_size, batch_first=True, bidirectional=True)\n",
    "        self.dropout = nn.Dropout(0.5)\n",
    "        self.fc = nn.Linear(hidden_size * 2, output_size)\n",
    "\n",
    "    def forward(self, x):\n",
    "        out, _ = self.lstm(x)\n",
    "        out = self.dropout(out[:, -1, :])\n",
    "        out = self.fc(out)\n",
    "        return torch.sigmoid(out)"
   ]
  },
  {
   "cell_type": "code",
   "execution_count": 22,
   "metadata": {
    "execution": {
     "iopub.execute_input": "2025-02-16T21:21:42.820148Z",
     "iopub.status.busy": "2025-02-16T21:21:42.819860Z",
     "iopub.status.idle": "2025-02-16T21:21:42.824041Z",
     "shell.execute_reply": "2025-02-16T21:21:42.823065Z",
     "shell.execute_reply.started": "2025-02-16T21:21:42.820124Z"
    }
   },
   "outputs": [],
   "source": [
    "model_names = ['RNN', 'LSTM', 'Bidirectional RNN', 'Bidirectional LSTM']\n",
    "model_classes = [RNNModel, LSTMModel, BiRNNModel, BiLSTMModel]\n"
   ]
  },
  {
   "cell_type": "code",
   "execution_count": 23,
   "metadata": {
    "execution": {
     "iopub.execute_input": "2025-02-16T21:21:45.987007Z",
     "iopub.status.busy": "2025-02-16T21:21:45.986729Z",
     "iopub.status.idle": "2025-02-16T21:21:45.991600Z",
     "shell.execute_reply": "2025-02-16T21:21:45.990597Z",
     "shell.execute_reply.started": "2025-02-16T21:21:45.986984Z"
    }
   },
   "outputs": [],
   "source": [
    "\n",
    "input_size = 768 \n",
    "hidden_size = 128  \n",
    "output_size = 1   \n",
    "learning_rate = 0.001\n",
    "num_epochs = 10"
   ]
  },
  {
   "cell_type": "markdown",
   "metadata": {},
   "source": [
    "# Train and Evaliate the models"
   ]
  },
  {
   "cell_type": "markdown",
   "metadata": {},
   "source": [
    "### RNN "
   ]
  },
  {
   "cell_type": "code",
   "execution_count": 24,
   "metadata": {
    "execution": {
     "iopub.execute_input": "2025-02-16T21:21:48.953187Z",
     "iopub.status.busy": "2025-02-16T21:21:48.952896Z",
     "iopub.status.idle": "2025-02-16T21:24:31.388458Z",
     "shell.execute_reply": "2025-02-16T21:24:31.387720Z",
     "shell.execute_reply.started": "2025-02-16T21:21:48.953165Z"
    }
   },
   "outputs": [
    {
     "name": "stdout",
     "output_type": "stream",
     "text": [
      "\n",
      "==== Training RNN Model ====\n",
      "RNN - Epoch [1/10], Loss: 0.3235\n",
      "RNN - Epoch [2/10], Loss: 0.3086\n",
      "RNN - Epoch [3/10], Loss: 0.3065\n",
      "RNN - Epoch [4/10], Loss: 0.3043\n",
      "RNN - Epoch [5/10], Loss: 0.3032\n",
      "RNN - Epoch [6/10], Loss: 0.3023\n",
      "RNN - Epoch [7/10], Loss: 0.3009\n",
      "RNN - Epoch [8/10], Loss: 0.3010\n",
      "RNN - Epoch [9/10], Loss: 0.2993\n",
      "RNN - Epoch [10/10], Loss: 0.2979\n",
      "RNN Test Accuracy: 0.8835\n",
      "              precision    recall  f1-score   support\n",
      "\n",
      "         0.0       0.88      0.88      0.88     48812\n",
      "         1.0       0.89      0.88      0.88     50179\n",
      "\n",
      "    accuracy                           0.88     98991\n",
      "   macro avg       0.88      0.88      0.88     98991\n",
      "weighted avg       0.88      0.88      0.88     98991\n",
      "\n"
     ]
    }
   ],
   "source": [
    "\n",
    "print(\"\\n==== Training RNN Model ====\")\n",
    "rnn_model = RNNModel(input_size, hidden_size, output_size).to(device)\n",
    "criterion = nn.BCELoss()\n",
    "optimizer = optim.Adam(rnn_model.parameters(), lr=learning_rate)\n",
    "rnn_train_losses = []\n",
    "\n",
    "for epoch in range(num_epochs):\n",
    "    rnn_model.train()\n",
    "    total_loss = 0.0\n",
    "    for X_batch, y_batch in train_loader:\n",
    "        X_batch, y_batch = X_batch.to(device), y_batch.to(device)\n",
    "        optimizer.zero_grad()\n",
    "        outputs = rnn_model(X_batch)\n",
    "        loss = criterion(outputs, y_batch.float())\n",
    "        loss.backward()\n",
    "        optimizer.step()\n",
    "        total_loss += loss.item()\n",
    "    avg_loss = total_loss / len(train_loader)\n",
    "    rnn_train_losses.append(avg_loss)\n",
    "    print(f\"RNN - Epoch [{epoch+1}/{num_epochs}], Loss: {avg_loss:.4f}\")\n",
    "\n",
    "\n",
    "rnn_model.eval()\n",
    "rnn_preds = []\n",
    "rnn_labels = []\n",
    "with torch.no_grad():\n",
    "    for X_batch, y_batch in test_loader:\n",
    "        X_batch, y_batch = X_batch.to(device), y_batch.to(device)\n",
    "        outputs = rnn_model(X_batch)\n",
    "        preds = (outputs > 0.5).int()\n",
    "        rnn_preds.extend(preds.cpu().numpy())\n",
    "        rnn_labels.extend(y_batch.cpu().numpy())\n",
    "rnn_accuracy = np.mean(np.array(rnn_preds) == np.array(rnn_labels))\n",
    "print(f\"RNN Test Accuracy: {rnn_accuracy:.4f}\")\n",
    "print(classification_report(rnn_labels, rnn_preds))\n",
    "\n",
    "rnn_result = {\n",
    "    'model': rnn_model,\n",
    "    'train_losses': rnn_train_losses,\n",
    "    'test_accuracy': rnn_accuracy,\n",
    "    'classification_report': classification_report(rnn_labels, rnn_preds)\n",
    "}"
   ]
  },
  {
   "cell_type": "markdown",
   "metadata": {},
   "source": [
    "# LSTM Model"
   ]
  },
  {
   "cell_type": "code",
   "execution_count": 25,
   "metadata": {
    "execution": {
     "iopub.execute_input": "2025-02-16T21:24:31.389815Z",
     "iopub.status.busy": "2025-02-16T21:24:31.389558Z",
     "iopub.status.idle": "2025-02-16T21:27:37.515053Z",
     "shell.execute_reply": "2025-02-16T21:27:37.514365Z",
     "shell.execute_reply.started": "2025-02-16T21:24:31.389795Z"
    }
   },
   "outputs": [
    {
     "name": "stdout",
     "output_type": "stream",
     "text": [
      "\n",
      "==== Training LSTM Model ====\n",
      "LSTM - Epoch [1/10], Loss: 0.3172\n",
      "LSTM - Epoch [2/10], Loss: 0.2990\n",
      "LSTM - Epoch [3/10], Loss: 0.2949\n",
      "LSTM - Epoch [4/10], Loss: 0.2916\n",
      "LSTM - Epoch [5/10], Loss: 0.2898\n",
      "LSTM - Epoch [6/10], Loss: 0.2883\n",
      "LSTM - Epoch [7/10], Loss: 0.2863\n",
      "LSTM - Epoch [8/10], Loss: 0.2856\n",
      "LSTM - Epoch [9/10], Loss: 0.2846\n",
      "LSTM - Epoch [10/10], Loss: 0.2843\n",
      "LSTM Test Accuracy: 0.8870\n",
      "              precision    recall  f1-score   support\n",
      "\n",
      "         0.0       0.88      0.90      0.89     48812\n",
      "         1.0       0.90      0.88      0.89     50179\n",
      "\n",
      "    accuracy                           0.89     98991\n",
      "   macro avg       0.89      0.89      0.89     98991\n",
      "weighted avg       0.89      0.89      0.89     98991\n",
      "\n"
     ]
    }
   ],
   "source": [
    "\n",
    "print(\"\\n==== Training LSTM Model ====\")\n",
    "lstm_model = LSTMModel(input_size, hidden_size, output_size).to(device)\n",
    "criterion = nn.BCELoss()\n",
    "optimizer = optim.Adam(lstm_model.parameters(), lr=learning_rate)\n",
    "lstm_train_losses = []\n",
    "\n",
    "for epoch in range(num_epochs):\n",
    "    lstm_model.train()\n",
    "    total_loss = 0.0\n",
    "    for X_batch, y_batch in train_loader:\n",
    "        X_batch, y_batch = X_batch.to(device), y_batch.to(device)\n",
    "        optimizer.zero_grad()\n",
    "        outputs = lstm_model(X_batch)\n",
    "        loss = criterion(outputs, y_batch.float())\n",
    "        loss.backward()\n",
    "        optimizer.step()\n",
    "        total_loss += loss.item()\n",
    "    avg_loss = total_loss / len(train_loader)\n",
    "    lstm_train_losses.append(avg_loss)\n",
    "    print(f\"LSTM - Epoch [{epoch+1}/{num_epochs}], Loss: {avg_loss:.4f}\")\n",
    "\n",
    "\n",
    "lstm_model.eval()\n",
    "lstm_preds = []\n",
    "lstm_labels = []\n",
    "with torch.no_grad():\n",
    "    for X_batch, y_batch in test_loader:\n",
    "        X_batch, y_batch = X_batch.to(device), y_batch.to(device)\n",
    "        outputs = lstm_model(X_batch)\n",
    "        preds = (outputs > 0.5).int()\n",
    "        lstm_preds.extend(preds.cpu().numpy())\n",
    "        lstm_labels.extend(y_batch.cpu().numpy())\n",
    "lstm_accuracy = np.mean(np.array(lstm_preds) == np.array(lstm_labels))\n",
    "print(f\"LSTM Test Accuracy: {lstm_accuracy:.4f}\")\n",
    "print(classification_report(lstm_labels, lstm_preds))\n",
    "\n",
    "lstm_result = {\n",
    "    'model': lstm_model,\n",
    "    'train_losses': lstm_train_losses,\n",
    "    'test_accuracy': lstm_accuracy,\n",
    "    'classification_report': classification_report(lstm_labels, lstm_preds)\n",
    "}"
   ]
  },
  {
   "cell_type": "markdown",
   "metadata": {},
   "source": [
    "# Bidirectional RNN Model"
   ]
  },
  {
   "cell_type": "code",
   "execution_count": 28,
   "metadata": {
    "execution": {
     "iopub.execute_input": "2025-02-16T21:43:25.998919Z",
     "iopub.status.busy": "2025-02-16T21:43:25.998588Z",
     "iopub.status.idle": "2025-02-16T21:46:23.297409Z",
     "shell.execute_reply": "2025-02-16T21:46:23.296465Z",
     "shell.execute_reply.started": "2025-02-16T21:43:25.998894Z"
    }
   },
   "outputs": [
    {
     "name": "stdout",
     "output_type": "stream",
     "text": [
      "\n",
      "==== Training Bidirectional RNN Model ====\n",
      "Bidirectional RNN - Epoch [1/10], Loss: 0.3248\n",
      "Bidirectional RNN - Epoch [2/10], Loss: 0.3112\n",
      "Bidirectional RNN - Epoch [3/10], Loss: 0.3082\n",
      "Bidirectional RNN - Epoch [4/10], Loss: 0.3057\n",
      "Bidirectional RNN - Epoch [5/10], Loss: 0.3047\n",
      "Bidirectional RNN - Epoch [6/10], Loss: 0.3029\n",
      "Bidirectional RNN - Epoch [7/10], Loss: 0.3031\n",
      "Bidirectional RNN - Epoch [8/10], Loss: 0.3015\n",
      "Bidirectional RNN - Epoch [9/10], Loss: 0.3010\n",
      "Bidirectional RNN - Epoch [10/10], Loss: 0.3008\n",
      "Bidirectional RNN Test Accuracy: 0.8837\n",
      "              precision    recall  f1-score   support\n",
      "\n",
      "         0.0       0.88      0.89      0.88     48812\n",
      "         1.0       0.89      0.88      0.88     50179\n",
      "\n",
      "    accuracy                           0.88     98991\n",
      "   macro avg       0.88      0.88      0.88     98991\n",
      "weighted avg       0.88      0.88      0.88     98991\n",
      "\n"
     ]
    }
   ],
   "source": [
    "print(\"\\n==== Training Bidirectional RNN Model ====\")\n",
    "birnn_model = BiRNNModel(input_size, hidden_size, output_size).to(device)\n",
    "criterion = nn.BCELoss()\n",
    "optimizer = optim.Adam(birnn_model.parameters(), lr=learning_rate)\n",
    "birnn_train_losses = []\n",
    "\n",
    "for epoch in range(num_epochs):\n",
    "    birnn_model.train()\n",
    "    total_loss = 0.0\n",
    "    for X_batch, y_batch in train_loader:\n",
    "        X_batch, y_batch = X_batch.to(device), y_batch.to(device)\n",
    "        optimizer.zero_grad()\n",
    "        outputs = birnn_model(X_batch)\n",
    "        loss = criterion(outputs, y_batch.float())\n",
    "        loss.backward()\n",
    "        optimizer.step()\n",
    "        total_loss += loss.item()\n",
    "    avg_loss = total_loss / len(train_loader)\n",
    "    birnn_train_losses.append(avg_loss)\n",
    "    print(f\"Bidirectional RNN - Epoch [{epoch+1}/{num_epochs}], Loss: {avg_loss:.4f}\")\n",
    "\n",
    "\n",
    "birnn_model.eval()\n",
    "birnn_preds = []\n",
    "birnn_labels = []\n",
    "with torch.no_grad():\n",
    "    for X_batch, y_batch in test_loader:\n",
    "        X_batch, y_batch = X_batch.to(device), y_batch.to(device)\n",
    "        outputs = birnn_model(X_batch)\n",
    "        preds = (outputs > 0.5).int()\n",
    "        birnn_preds.extend(preds.cpu().numpy())\n",
    "        birnn_labels.extend(y_batch.cpu().numpy())\n",
    "birnn_accuracy = np.mean(np.array(birnn_preds) == np.array(birnn_labels))\n",
    "print(f\"Bidirectional RNN Test Accuracy: {birnn_accuracy:.4f}\")\n",
    "print(classification_report(birnn_labels, birnn_preds))\n",
    "\n",
    "birnn_result = {\n",
    "    'model': birnn_model,\n",
    "    'train_losses': birnn_train_losses,\n",
    "    'test_accuracy': birnn_accuracy,\n",
    "    'classification_report': classification_report(birnn_labels, birnn_preds)\n",
    "}"
   ]
  },
  {
   "cell_type": "markdown",
   "metadata": {},
   "source": [
    "# Bidirectional LSTM Model"
   ]
  },
  {
   "cell_type": "code",
   "execution_count": 26,
   "metadata": {
    "execution": {
     "iopub.execute_input": "2025-02-16T21:37:22.158358Z",
     "iopub.status.busy": "2025-02-16T21:37:22.157896Z",
     "iopub.status.idle": "2025-02-16T21:40:52.752851Z",
     "shell.execute_reply": "2025-02-16T21:40:52.751862Z",
     "shell.execute_reply.started": "2025-02-16T21:37:22.158310Z"
    }
   },
   "outputs": [
    {
     "name": "stdout",
     "output_type": "stream",
     "text": [
      "\n",
      "==== Training Bidirectional LSTM Model ====\n",
      "Bidirectional LSTM - Epoch [1/10], Loss: 0.3164\n",
      "Bidirectional LSTM - Epoch [2/10], Loss: 0.2965\n",
      "Bidirectional LSTM - Epoch [3/10], Loss: 0.2925\n",
      "Bidirectional LSTM - Epoch [4/10], Loss: 0.2895\n",
      "Bidirectional LSTM - Epoch [5/10], Loss: 0.2867\n",
      "Bidirectional LSTM - Epoch [6/10], Loss: 0.2845\n",
      "Bidirectional LSTM - Epoch [7/10], Loss: 0.2834\n",
      "Bidirectional LSTM - Epoch [8/10], Loss: 0.2823\n",
      "Bidirectional LSTM - Epoch [9/10], Loss: 0.2810\n",
      "Bidirectional LSTM - Epoch [10/10], Loss: 0.2794\n",
      "Bidirectional LSTM Test Accuracy: 0.8873\n",
      "              precision    recall  f1-score   support\n",
      "\n",
      "         0.0       0.89      0.87      0.88     48812\n",
      "         1.0       0.88      0.90      0.89     50179\n",
      "\n",
      "    accuracy                           0.89     98991\n",
      "   macro avg       0.89      0.89      0.89     98991\n",
      "weighted avg       0.89      0.89      0.89     98991\n",
      "\n"
     ]
    }
   ],
   "source": [
    "\n",
    "print(\"\\n==== Training Bidirectional LSTM Model ====\")\n",
    "bilstm_model = BiLSTMModel(input_size, hidden_size, output_size).to(device)\n",
    "criterion = nn.BCELoss()\n",
    "optimizer = optim.Adam(bilstm_model.parameters(), lr=learning_rate)\n",
    "bilstm_train_losses = []\n",
    "\n",
    "for epoch in range(num_epochs):\n",
    "    bilstm_model.train()\n",
    "    total_loss = 0.0\n",
    "    for X_batch, y_batch in train_loader:\n",
    "        X_batch, y_batch = X_batch.to(device), y_batch.to(device)\n",
    "        optimizer.zero_grad()\n",
    "        outputs = bilstm_model(X_batch)\n",
    "        loss = criterion(outputs, y_batch.float())\n",
    "        loss.backward()\n",
    "        optimizer.step()\n",
    "        total_loss += loss.item()\n",
    "    avg_loss = total_loss / len(train_loader)\n",
    "    bilstm_train_losses.append(avg_loss)\n",
    "    print(f\"Bidirectional LSTM - Epoch [{epoch+1}/{num_epochs}], Loss: {avg_loss:.4f}\")\n",
    "\n",
    "\n",
    "bilstm_model.eval()\n",
    "bilstm_preds = []\n",
    "bilstm_labels = []\n",
    "with torch.no_grad():\n",
    "    for X_batch, y_batch in test_loader:\n",
    "        X_batch, y_batch = X_batch.to(device), y_batch.to(device)\n",
    "        outputs = bilstm_model(X_batch)\n",
    "        preds = (outputs > 0.5).int()\n",
    "        bilstm_preds.extend(preds.cpu().numpy())\n",
    "        bilstm_labels.extend(y_batch.cpu().numpy())\n",
    "bilstm_accuracy = np.mean(np.array(bilstm_preds) == np.array(bilstm_labels))\n",
    "print(f\"Bidirectional LSTM Test Accuracy: {bilstm_accuracy:.4f}\")\n",
    "print(classification_report(bilstm_labels, bilstm_preds))\n",
    "\n",
    "bilstm_result = {\n",
    "    'model': bilstm_model,\n",
    "    'train_losses': bilstm_train_losses,\n",
    "    'test_accuracy': bilstm_accuracy,\n",
    "    'classification_report': classification_report(bilstm_labels, bilstm_preds)\n",
    "}"
   ]
  },
  {
   "cell_type": "markdown",
   "metadata": {},
   "source": [
    "# Comparison \n"
   ]
  },
  {
   "cell_type": "code",
   "execution_count": 29,
   "metadata": {
    "execution": {
     "iopub.execute_input": "2025-02-16T21:47:16.796398Z",
     "iopub.status.busy": "2025-02-16T21:47:16.796105Z",
     "iopub.status.idle": "2025-02-16T21:47:16.802158Z",
     "shell.execute_reply": "2025-02-16T21:47:16.801240Z",
     "shell.execute_reply.started": "2025-02-16T21:47:16.796374Z"
    }
   },
   "outputs": [
    {
     "name": "stdout",
     "output_type": "stream",
     "text": [
      "RNN Test Accuracy: 0.8835\n",
      "LSTM Test Accuracy: 0.8870\n",
      "Bidirectional RNN Test Accuracy: 0.8837\n",
      "Bidirectional LSTM Test Accuracy: 0.8873\n"
     ]
    }
   ],
   "source": [
    "\n",
    "results = {\n",
    "    'RNN': rnn_result,\n",
    "    'LSTM': lstm_result,\n",
    "    'Bidirectional RNN': birnn_result,\n",
    "    'Bidirectional LSTM': bilstm_result\n",
    "}\n",
    "\n",
    "\n",
    "for name, res in results.items():\n",
    "    print(f\"{name} Test Accuracy: {res['test_accuracy']:.4f}\")"
   ]
  },
  {
   "cell_type": "markdown",
   "metadata": {},
   "source": [
    "# Test Accurecy "
   ]
  },
  {
   "cell_type": "code",
   "execution_count": 30,
   "metadata": {
    "execution": {
     "iopub.execute_input": "2025-02-16T21:47:19.355808Z",
     "iopub.status.busy": "2025-02-16T21:47:19.355464Z",
     "iopub.status.idle": "2025-02-16T21:47:19.900126Z",
     "shell.execute_reply": "2025-02-16T21:47:19.899229Z",
     "shell.execute_reply.started": "2025-02-16T21:47:19.355778Z"
    }
   },
   "outputs": [
    {
     "name": "stderr",
     "output_type": "stream",
     "text": [
      "/usr/local/lib/python3.10/dist-packages/seaborn/_oldcore.py:1765: FutureWarning: unique with argument that is not not a Series, Index, ExtensionArray, or np.ndarray is deprecated and will raise in a future version.\n",
      "  order = pd.unique(vector)\n"
     ]
    },
    {
     "data": {
      "image/png": "[encoded data removed]",
      "text/plain": [
       "<Figure size 1800x500 with 1 Axes>"
      ]
     },
     "metadata": {},
     "output_type": "display_data"
    }
   ],
   "source": [
    "test_accs = {name: res['test_accuracy'] for name, res in results.items()}\n",
    "\n",
    "plt.figure(figsize=(18,5))\n",
    "\n",
    "\n",
    "plt.subplot(1,2,1)\n",
    "sns.barplot(x=list(test_accs.keys()), y=list(test_accs.values()), palette='viridis')\n",
    "plt.xlabel('Model')\n",
    "plt.ylabel('Test Accuracy')\n",
    "plt.title('Test Accuracy Comparison')\n",
    "for i, (model_name, acc) in enumerate(test_accs.items()):\n",
    "    plt.text(i, acc, f\"{acc:.2f}\", ha='center', va='bottom', fontsize=12, color='black')"
   ]
  },
  {
   "cell_type": "markdown",
   "metadata": {},
   "source": [
    "# Training Losses"
   ]
  },
  {
   "cell_type": "code",
   "execution_count": 31,
   "metadata": {
    "execution": {
     "iopub.execute_input": "2025-02-16T21:47:29.382106Z",
     "iopub.status.busy": "2025-02-16T21:47:29.381813Z",
     "iopub.status.idle": "2025-02-16T21:47:29.578994Z",
     "shell.execute_reply": "2025-02-16T21:47:29.578076Z",
     "shell.execute_reply.started": "2025-02-16T21:47:29.382083Z"
    }
   },
   "outputs": [
    {
     "name": "stderr",
     "output_type": "stream",
     "text": [
      "/usr/local/lib/python3.10/dist-packages/seaborn/_oldcore.py:1765: FutureWarning: unique with argument that is not not a Series, Index, ExtensionArray, or np.ndarray is deprecated and will raise in a future version.\n",
      "  order = pd.unique(vector)\n"
     ]
    },
    {
     "data": {
      "image/png": "[encoded data removed]",
      "text/plain": [
       "<Figure size 1800x500 with 1 Axes>"
      ]
     },
     "metadata": {},
     "output_type": "display_data"
    }
   ],
   "source": [
    "\n",
    "train_losses_final = {name: res['train_losses'][-1] for name, res in results.items()}\n",
    "plt.figure(figsize=(18,5))\n",
    "\n",
    "plt.subplot(1,2,2)\n",
    "sns.barplot(x=list(train_losses_final.keys()), y=list(train_losses_final.values()), palette='rocket')\n",
    "plt.xlabel('Model')\n",
    "plt.ylabel('Final Training Loss')\n",
    "plt.title('Training Loss Comparison (Final Epoch)')\n",
    "for i, (model_name, loss_val) in enumerate(train_losses_final.items()):\n",
    "    plt.text(i, loss_val, f\"{loss_val:.4f}\", ha='center', va='bottom', fontsize=12, color='black')\n",
    "\n",
    "plt.tight_layout()\n",
    "plt.show()"
   ]
  }
 ],
 "metadata": {
  "kaggle": {
   "accelerator": "nvidiaTeslaT4",
   "dataSources": [
    {
     "datasetId": 5577640,
     "sourceId": 9222859,
     "sourceType": "datasetVersion"
    }
   ],
   "isGpuEnabled": true,
   "isInternetEnabled": true,
   "language": "python",
   "sourceType": "notebook"
  },
  "kernelspec": {
   "display_name": "Python 3 (ipykernel)",
   "language": "python",
   "name": "python3"
  },
  "language_info": {
   "codemirror_mode": {
    "name": "ipython",
    "version": 3
   },
   "file_extension": ".py",
   "mimetype": "text/x-python",
   "name": "python",
   "nbconvert_exporter": "python",
   "pygments_lexer": "ipython3",
   "version": "3.12.7"
  }
 },
 "nbformat": 4,
 "nbformat_minor": 4
}
